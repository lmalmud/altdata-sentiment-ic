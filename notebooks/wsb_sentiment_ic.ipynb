{
 "cells": [
  {
   "cell_type": "markdown",
   "id": "90a6d2b3",
   "metadata": {},
   "source": [
    "# WallStreetBests: Reddit Sentiment $\\implies$ Stock Alpha"
   ]
  },
  {
   "cell_type": "code",
   "execution_count": 65,
   "id": "da61e7b7",
   "metadata": {},
   "outputs": [],
   "source": [
    "import pandas as pd\n",
    "import numpy as np\n",
    "\n",
    "import ast # Used to convert the list representation to an actual list\n",
    "\n",
    "# Adjust path in order to access preprocessing code\n",
    "import sys\n",
    "import os\n",
    "parent_dir = os.path.abspath(os.path.join(os.getcwd(), '..'))\n",
    "sys.path.append(parent_dir)\n",
    "import src.preprocess as preprocess"
   ]
  },
  {
   "cell_type": "markdown",
   "id": "dc8e9c4c",
   "metadata": {},
   "source": [
    "## 1: Quick data audit"
   ]
  },
  {
   "cell_type": "code",
   "execution_count": 59,
   "id": "14dd441e",
   "metadata": {},
   "outputs": [
    {
     "data": {
      "text/html": [
       "<div>\n",
       "<style scoped>\n",
       "    .dataframe tbody tr th:only-of-type {\n",
       "        vertical-align: middle;\n",
       "    }\n",
       "\n",
       "    .dataframe tbody tr th {\n",
       "        vertical-align: top;\n",
       "    }\n",
       "\n",
       "    .dataframe thead th {\n",
       "        text-align: right;\n",
       "    }\n",
       "</style>\n",
       "<table border=\"1\" class=\"dataframe\">\n",
       "  <thead>\n",
       "    <tr style=\"text-align: right;\">\n",
       "      <th></th>\n",
       "      <th>title</th>\n",
       "      <th>score</th>\n",
       "      <th>id</th>\n",
       "      <th>url</th>\n",
       "      <th>comms_num</th>\n",
       "      <th>created</th>\n",
       "      <th>body</th>\n",
       "      <th>timestamp</th>\n",
       "      <th>raw_text</th>\n",
       "      <th>ticker</th>\n",
       "      <th>sentiment</th>\n",
       "    </tr>\n",
       "  </thead>\n",
       "  <tbody>\n",
       "    <tr>\n",
       "      <th>0</th>\n",
       "      <td>Exit the system</td>\n",
       "      <td>0</td>\n",
       "      <td>l6uhhn</td>\n",
       "      <td>https://www.reddit.com/r/wallstreetbets/commen...</td>\n",
       "      <td>47</td>\n",
       "      <td>1.611862e+09</td>\n",
       "      <td>The CEO of NASDAQ pushed to halt trading “to g...</td>\n",
       "      <td>2021-01-28 21:30:35</td>\n",
       "      <td>Exit the system The CEO of NASDAQ pushed to ha...</td>\n",
       "      <td>[CEO, GME]</td>\n",
       "      <td>-0.062377</td>\n",
       "    </tr>\n",
       "    <tr>\n",
       "      <th>1</th>\n",
       "      <td>NEW SEC FILING FOR GME! CAN SOMEONE LESS RETAR...</td>\n",
       "      <td>29</td>\n",
       "      <td>l6ugk6</td>\n",
       "      <td>https://sec.report/Document/0001193125-21-019848/</td>\n",
       "      <td>74</td>\n",
       "      <td>1.611862e+09</td>\n",
       "      <td>NaN</td>\n",
       "      <td>2021-01-28 21:28:57</td>\n",
       "      <td>NEW SEC FILING FOR GME! CAN SOMEONE LESS RETAR...</td>\n",
       "      <td>[NEW, FOR, GME, CAN]</td>\n",
       "      <td>-0.008729</td>\n",
       "    </tr>\n",
       "    <tr>\n",
       "      <th>2</th>\n",
       "      <td>Not to distract from GME, just thought our AMC...</td>\n",
       "      <td>71</td>\n",
       "      <td>l6ufgy</td>\n",
       "      <td>https://i.redd.it/4h2sukb662e61.jpg</td>\n",
       "      <td>156</td>\n",
       "      <td>1.611862e+09</td>\n",
       "      <td>NaN</td>\n",
       "      <td>2021-01-28 21:26:56</td>\n",
       "      <td>Not to distract from GME, just thought our AMC...</td>\n",
       "      <td>[GME, AMC]</td>\n",
       "      <td>0.085851</td>\n",
       "    </tr>\n",
       "    <tr>\n",
       "      <th>3</th>\n",
       "      <td>SHORT STOCK DOESN'T HAVE AN EXPIRATION DATE</td>\n",
       "      <td>317</td>\n",
       "      <td>l6uf6d</td>\n",
       "      <td>https://www.reddit.com/r/wallstreetbets/commen...</td>\n",
       "      <td>53</td>\n",
       "      <td>1.611862e+09</td>\n",
       "      <td>Hedgefund whales are spreading disinfo saying ...</td>\n",
       "      <td>2021-01-28 21:26:27</td>\n",
       "      <td>SHORT STOCK DOESN'T HAVE AN EXPIRATION DATE He...</td>\n",
       "      <td>[AN, GME, ITM, DON, DON, BE]</td>\n",
       "      <td>-0.150121</td>\n",
       "    </tr>\n",
       "    <tr>\n",
       "      <th>4</th>\n",
       "      <td>THIS IS THE MOMENT</td>\n",
       "      <td>405</td>\n",
       "      <td>l6ub9l</td>\n",
       "      <td>https://www.reddit.com/r/wallstreetbets/commen...</td>\n",
       "      <td>178</td>\n",
       "      <td>1.611862e+09</td>\n",
       "      <td>Life isn't fair. My mother always told me that...</td>\n",
       "      <td>2021-01-28 21:19:31</td>\n",
       "      <td>THIS IS THE MOMENT Life isn't fair. My mother ...</td>\n",
       "      <td>[ARE, GME, BB]</td>\n",
       "      <td>-0.128038</td>\n",
       "    </tr>\n",
       "  </tbody>\n",
       "</table>\n",
       "</div>"
      ],
      "text/plain": [
       "                                               title  score      id  \\\n",
       "0                                    Exit the system      0  l6uhhn   \n",
       "1  NEW SEC FILING FOR GME! CAN SOMEONE LESS RETAR...     29  l6ugk6   \n",
       "2  Not to distract from GME, just thought our AMC...     71  l6ufgy   \n",
       "3        SHORT STOCK DOESN'T HAVE AN EXPIRATION DATE    317  l6uf6d   \n",
       "4                                 THIS IS THE MOMENT    405  l6ub9l   \n",
       "\n",
       "                                                 url  comms_num       created  \\\n",
       "0  https://www.reddit.com/r/wallstreetbets/commen...         47  1.611862e+09   \n",
       "1  https://sec.report/Document/0001193125-21-019848/         74  1.611862e+09   \n",
       "2                https://i.redd.it/4h2sukb662e61.jpg        156  1.611862e+09   \n",
       "3  https://www.reddit.com/r/wallstreetbets/commen...         53  1.611862e+09   \n",
       "4  https://www.reddit.com/r/wallstreetbets/commen...        178  1.611862e+09   \n",
       "\n",
       "                                                body            timestamp  \\\n",
       "0  The CEO of NASDAQ pushed to halt trading “to g...  2021-01-28 21:30:35   \n",
       "1                                                NaN  2021-01-28 21:28:57   \n",
       "2                                                NaN  2021-01-28 21:26:56   \n",
       "3  Hedgefund whales are spreading disinfo saying ...  2021-01-28 21:26:27   \n",
       "4  Life isn't fair. My mother always told me that...  2021-01-28 21:19:31   \n",
       "\n",
       "                                            raw_text  \\\n",
       "0  Exit the system The CEO of NASDAQ pushed to ha...   \n",
       "1  NEW SEC FILING FOR GME! CAN SOMEONE LESS RETAR...   \n",
       "2  Not to distract from GME, just thought our AMC...   \n",
       "3  SHORT STOCK DOESN'T HAVE AN EXPIRATION DATE He...   \n",
       "4  THIS IS THE MOMENT Life isn't fair. My mother ...   \n",
       "\n",
       "                         ticker  sentiment  \n",
       "0                    [CEO, GME]  -0.062377  \n",
       "1          [NEW, FOR, GME, CAN]  -0.008729  \n",
       "2                    [GME, AMC]   0.085851  \n",
       "3  [AN, GME, ITM, DON, DON, BE]  -0.150121  \n",
       "4                [ARE, GME, BB]  -0.128038  "
      ]
     },
     "execution_count": 59,
     "metadata": {},
     "output_type": "execute_result"
    }
   ],
   "source": [
    "# Read in Reddit data as pd.DataFrame\n",
    "reddit = (pd.read_csv('../data/reddit_wsb_with_sentiment.csv')\n",
    "          .drop(['Unnamed: 0.1', 'Unnamed: 0'],\n",
    "                axis=1,\n",
    "                errors='ignore'))\n",
    "reddit['ticker'] = reddit['ticker'].apply(ast.literal_eval)\n",
    "reddit.head()"
   ]
  },
  {
   "cell_type": "markdown",
   "id": "b81a4c3e",
   "metadata": {},
   "source": [
    "### 1a: Null counts per column"
   ]
  },
  {
   "cell_type": "code",
   "execution_count": 60,
   "id": "66915c89",
   "metadata": {},
   "outputs": [
    {
     "data": {
      "text/html": [
       "<div>\n",
       "<style scoped>\n",
       "    .dataframe tbody tr th:only-of-type {\n",
       "        vertical-align: middle;\n",
       "    }\n",
       "\n",
       "    .dataframe tbody tr th {\n",
       "        vertical-align: top;\n",
       "    }\n",
       "\n",
       "    .dataframe thead th {\n",
       "        text-align: right;\n",
       "    }\n",
       "</style>\n",
       "<table border=\"1\" class=\"dataframe\">\n",
       "  <thead>\n",
       "    <tr style=\"text-align: right;\">\n",
       "      <th></th>\n",
       "      <th>column_name</th>\n",
       "      <th>null_count</th>\n",
       "    </tr>\n",
       "  </thead>\n",
       "  <tbody>\n",
       "    <tr>\n",
       "      <th>0</th>\n",
       "      <td>title</td>\n",
       "      <td>28909</td>\n",
       "    </tr>\n",
       "    <tr>\n",
       "      <th>0</th>\n",
       "      <td>score</td>\n",
       "      <td>28909</td>\n",
       "    </tr>\n",
       "    <tr>\n",
       "      <th>0</th>\n",
       "      <td>id</td>\n",
       "      <td>28909</td>\n",
       "    </tr>\n",
       "    <tr>\n",
       "      <th>0</th>\n",
       "      <td>url</td>\n",
       "      <td>28909</td>\n",
       "    </tr>\n",
       "    <tr>\n",
       "      <th>0</th>\n",
       "      <td>comms_num</td>\n",
       "      <td>28909</td>\n",
       "    </tr>\n",
       "    <tr>\n",
       "      <th>0</th>\n",
       "      <td>created</td>\n",
       "      <td>28909</td>\n",
       "    </tr>\n",
       "    <tr>\n",
       "      <th>0</th>\n",
       "      <td>body</td>\n",
       "      <td>18008</td>\n",
       "    </tr>\n",
       "    <tr>\n",
       "      <th>0</th>\n",
       "      <td>timestamp</td>\n",
       "      <td>28909</td>\n",
       "    </tr>\n",
       "    <tr>\n",
       "      <th>0</th>\n",
       "      <td>raw_text</td>\n",
       "      <td>28909</td>\n",
       "    </tr>\n",
       "    <tr>\n",
       "      <th>0</th>\n",
       "      <td>ticker</td>\n",
       "      <td>28909</td>\n",
       "    </tr>\n",
       "    <tr>\n",
       "      <th>0</th>\n",
       "      <td>sentiment</td>\n",
       "      <td>28909</td>\n",
       "    </tr>\n",
       "  </tbody>\n",
       "</table>\n",
       "</div>"
      ],
      "text/plain": [
       "  column_name null_count\n",
       "0       title      28909\n",
       "0       score      28909\n",
       "0          id      28909\n",
       "0         url      28909\n",
       "0   comms_num      28909\n",
       "0     created      28909\n",
       "0        body      18008\n",
       "0   timestamp      28909\n",
       "0    raw_text      28909\n",
       "0      ticker      28909\n",
       "0   sentiment      28909"
      ]
     },
     "execution_count": 60,
     "metadata": {},
     "output_type": "execute_result"
    }
   ],
   "source": [
    "# For each column\n",
    "null_counts = pd.DataFrame(columns=['column_name', 'null_count'])\n",
    "for col in reddit.columns:\n",
    "    # Count returns the number of non null values in an object\n",
    "    current = pd.DataFrame({'column_name' : [col], 'null_count' : [reddit[col].count()]})\n",
    "    null_counts = pd.concat([null_counts, current])\n",
    "null_counts"
   ]
  },
  {
   "cell_type": "markdown",
   "id": "ce626567",
   "metadata": {},
   "source": [
    "### 1b: Top-10 tickers by post count and by up-vote score."
   ]
  },
  {
   "cell_type": "code",
   "execution_count": 61,
   "id": "6a685c1e",
   "metadata": {},
   "outputs": [
    {
     "name": "stdout",
     "output_type": "stream",
     "text": [
      "Top 10 Tickers by Post Count\n",
      "     ticker  post_count  cum_score\n",
      "926     GME       23682   46155124\n",
      "86      AMC        7902    6287943\n",
      "1022   HOLD        3682    2731854\n",
      "196      BB        3142    1788179\n",
      "297     BUY        2466    1429137\n",
      "1508    NOK        2233     822555\n",
      "1796     RH        2211    1936715\n",
      "837     FOR        1838    1626893\n",
      "361     CEO        1747    1635297\n",
      "734      EV        1516     444604\n",
      "\n",
      "Top 10 Tickers by Aggregate Score\n",
      "     ticker  post_count  cum_score\n",
      "926     GME       23682   46155124\n",
      "86      AMC        7902    6287943\n",
      "658    EDIT        1101    3068151\n",
      "1022   HOLD        3682    2731854\n",
      "1146     IT        1295    2130008\n",
      "1796     RH        2211    1936715\n",
      "1957    SLV         585    1878881\n",
      "196      BB        3142    1788179\n",
      "1150    ITM         751    1684780\n",
      "361     CEO        1747    1635297\n"
     ]
    }
   ],
   "source": [
    "# Copies each row for each ticker it contains information about\n",
    "reddit_exploded = reddit.explode('ticker')\n",
    "ticker_stats = reddit_exploded.groupby('ticker').agg({\n",
    "    'score' : ['count', 'sum'] # Score maps to these two functions\n",
    "}).round(2)\n",
    "\n",
    "# Flatten column names- otherwise there is a row before called 'score'\n",
    "ticker_stats.columns = ['post_count', 'cum_score']\n",
    "ticker_stats = ticker_stats.reset_index() # Otherwise, ticker is the index, we want as column\n",
    "\n",
    "print('Top 10 Tickers by Post Count')\n",
    "print(ticker_stats.sort_values('post_count', ascending=False).head(10))\n",
    "\n",
    "print()\n",
    "\n",
    "print('Top 10 Tickers by Aggregate Score')\n",
    "print(ticker_stats.sort_values('cum_score', ascending=False).head(10))"
   ]
  },
  {
   "cell_type": "markdown",
   "id": "304d1997",
   "metadata": {},
   "source": [
    "## 2: Daily sentiment feature"
   ]
  },
  {
   "cell_type": "markdown",
   "id": "efa28509",
   "metadata": {},
   "source": [
    "### 2a: Use VADER (or FinBERT for finance-tuned) to score each post"
   ]
  },
  {
   "cell_type": "code",
   "execution_count": 62,
   "id": "dd2ff1d5",
   "metadata": {},
   "outputs": [
    {
     "data": {
      "text/plain": [
       "Text(0.5, 1.0, 'Distribution of Sentiment Scores Across Posts')"
      ]
     },
     "execution_count": 62,
     "metadata": {},
     "output_type": "execute_result"
    },
    {
     "data": {
      "image/png": "[encoded data removed]",
      "text/plain": [
       "<Figure size 640x480 with 1 Axes>"
      ]
     },
     "metadata": {},
     "output_type": "display_data"
    }
   ],
   "source": [
    "import matplotlib.pyplot as plt\n",
    "\n",
    "# Distribution of posts\n",
    "plt.hist(reddit_exploded['sentiment'])\n",
    "plt.xlabel('Compound Sentiment Score')\n",
    "plt.ylabel('Count')\n",
    "plt.title('Distribution of Sentiment Scores Across Posts')"
   ]
  },
  {
   "cell_type": "markdown",
   "id": "35718866",
   "metadata": {},
   "source": [
    "### 2b: Aggregate to sent_mean, sent_median, bull_ratio by ticker-date."
   ]
  },
  {
   "cell_type": "code",
   "execution_count": 70,
   "id": "0261d609",
   "metadata": {},
   "outputs": [],
   "source": [
    "def classify_bull_bear(compound_score):\n",
    "    '''\n",
    "    Classifies a post as either bullish or bearish by\n",
    "    predetermined thresholds on the sentiment score.\n",
    "    Parameters:\n",
    "    compound_score (float): the compound sentiment score of the post to be classified\n",
    "    Returns:\n",
    "    str (bullish, bearish, neutral): the output label\n",
    "    '''\n",
    "    if compound_score >= .05:\n",
    "        return 'bullish'\n",
    "    elif compound_score <= -.05:\n",
    "        return 'bearish'\n",
    "    else:\n",
    "        return 'neutral'\n",
    "\n",
    "def bull_ratio(series):\n",
    "    '''\n",
    "    Computes the bull ratio for a group of tickers in a pd.DataFrame.\n",
    "    Parameters:\n",
    "    group (pd.Series): a series containing 'bull'/'bear' sentiment classificaitons\n",
    "    Returns:\n",
    "    float: bull ratio = #bullish/(#bullish + #bearish)\n",
    "    '''\n",
    "    bull_count = (series == 'bullish').sum()\n",
    "    bear_count = (series == 'bearish').sum()\n",
    "    total = bull_count + bear_count\n",
    "    return bull_count / total if total > 0 else np.nan # Gracefully handle zero case"
   ]
  },
  {
   "cell_type": "code",
   "execution_count": 71,
   "id": "13a697f3",
   "metadata": {
    "vscode": {
     "languageId": "ruby"
    }
   },
   "outputs": [
    {
     "data": {
      "text/html": [
       "<div>\n",
       "<style scoped>\n",
       "    .dataframe tbody tr th:only-of-type {\n",
       "        vertical-align: middle;\n",
       "    }\n",
       "\n",
       "    .dataframe tbody tr th {\n",
       "        vertical-align: top;\n",
       "    }\n",
       "\n",
       "    .dataframe thead th {\n",
       "        text-align: right;\n",
       "    }\n",
       "</style>\n",
       "<table border=\"1\" class=\"dataframe\">\n",
       "  <thead>\n",
       "    <tr style=\"text-align: right;\">\n",
       "      <th></th>\n",
       "      <th>date</th>\n",
       "      <th>ticker</th>\n",
       "      <th>sent_mean</th>\n",
       "      <th>sent_median</th>\n",
       "      <th>bull_ratio</th>\n",
       "    </tr>\n",
       "  </thead>\n",
       "  <tbody>\n",
       "    <tr>\n",
       "      <th>0</th>\n",
       "      <td>2020-09-29</td>\n",
       "      <td>CBAT</td>\n",
       "      <td>0.635384</td>\n",
       "      <td>0.635384</td>\n",
       "      <td>1.0</td>\n",
       "    </tr>\n",
       "    <tr>\n",
       "      <th>1</th>\n",
       "      <td>2020-09-29</td>\n",
       "      <td>ES</td>\n",
       "      <td>0.635384</td>\n",
       "      <td>0.635384</td>\n",
       "      <td>1.0</td>\n",
       "    </tr>\n",
       "    <tr>\n",
       "      <th>2</th>\n",
       "      <td>2020-09-29</td>\n",
       "      <td>EV</td>\n",
       "      <td>0.635384</td>\n",
       "      <td>0.635384</td>\n",
       "      <td>1.0</td>\n",
       "    </tr>\n",
       "    <tr>\n",
       "      <th>3</th>\n",
       "      <td>2020-09-29</td>\n",
       "      <td>OXBR</td>\n",
       "      <td>0.635384</td>\n",
       "      <td>0.635384</td>\n",
       "      <td>1.0</td>\n",
       "    </tr>\n",
       "    <tr>\n",
       "      <th>4</th>\n",
       "      <td>2020-09-29</td>\n",
       "      <td>SPI</td>\n",
       "      <td>0.635384</td>\n",
       "      <td>0.635384</td>\n",
       "      <td>1.0</td>\n",
       "    </tr>\n",
       "    <tr>\n",
       "      <th>...</th>\n",
       "      <td>...</td>\n",
       "      <td>...</td>\n",
       "      <td>...</td>\n",
       "      <td>...</td>\n",
       "      <td>...</td>\n",
       "    </tr>\n",
       "    <tr>\n",
       "      <th>20509</th>\n",
       "      <td>2021-08-16</td>\n",
       "      <td>PT</td>\n",
       "      <td>0.374970</td>\n",
       "      <td>0.374970</td>\n",
       "      <td>1.0</td>\n",
       "    </tr>\n",
       "    <tr>\n",
       "      <th>20510</th>\n",
       "      <td>2021-08-16</td>\n",
       "      <td>SEE</td>\n",
       "      <td>0.194275</td>\n",
       "      <td>0.194275</td>\n",
       "      <td>1.0</td>\n",
       "    </tr>\n",
       "    <tr>\n",
       "      <th>20511</th>\n",
       "      <td>2021-08-16</td>\n",
       "      <td>TGT</td>\n",
       "      <td>0.013615</td>\n",
       "      <td>0.013615</td>\n",
       "      <td>NaN</td>\n",
       "    </tr>\n",
       "    <tr>\n",
       "      <th>20512</th>\n",
       "      <td>2021-08-16</td>\n",
       "      <td>VZ</td>\n",
       "      <td>0.762364</td>\n",
       "      <td>0.762364</td>\n",
       "      <td>1.0</td>\n",
       "    </tr>\n",
       "    <tr>\n",
       "      <th>20513</th>\n",
       "      <td>2021-08-16</td>\n",
       "      <td>WMT</td>\n",
       "      <td>0.013615</td>\n",
       "      <td>0.013615</td>\n",
       "      <td>NaN</td>\n",
       "    </tr>\n",
       "  </tbody>\n",
       "</table>\n",
       "<p>20514 rows × 5 columns</p>\n",
       "</div>"
      ],
      "text/plain": [
       "             date ticker  sent_mean  sent_median  bull_ratio\n",
       "0      2020-09-29   CBAT   0.635384     0.635384         1.0\n",
       "1      2020-09-29     ES   0.635384     0.635384         1.0\n",
       "2      2020-09-29     EV   0.635384     0.635384         1.0\n",
       "3      2020-09-29   OXBR   0.635384     0.635384         1.0\n",
       "4      2020-09-29    SPI   0.635384     0.635384         1.0\n",
       "...           ...    ...        ...          ...         ...\n",
       "20509  2021-08-16     PT   0.374970     0.374970         1.0\n",
       "20510  2021-08-16    SEE   0.194275     0.194275         1.0\n",
       "20511  2021-08-16    TGT   0.013615     0.013615         NaN\n",
       "20512  2021-08-16     VZ   0.762364     0.762364         1.0\n",
       "20513  2021-08-16    WMT   0.013615     0.013615         NaN\n",
       "\n",
       "[20514 rows x 5 columns]"
      ]
     },
     "execution_count": 71,
     "metadata": {},
     "output_type": "execute_result"
    }
   ],
   "source": [
    "# Create a column to only store date\n",
    "reddit_exploded['date'] = pd.to_datetime(reddit_sent['timestamp'])\n",
    "reddit_exploded['date'] = reddit_exploded['date'].dt.date\n",
    "reddit_exploded['bull_bear'] = reddit_exploded['sentiment'].apply(classify_bull_bear)\n",
    "\n",
    "date_stats = reddit_exploded.groupby(['date', 'ticker']).agg(\n",
    "    sent_mean=('sentiment', 'mean'),\n",
    "    sent_median=('sentiment', 'median'),\n",
    "    bull_ratio=('bull_bear', bull_ratio)\n",
    ")\n",
    "\n",
    "date_stats = date_stats.reset_index()\n",
    "date_stats"
   ]
  },
  {
   "cell_type": "code",
   "execution_count": null,
   "id": "edd39239",
   "metadata": {
    "vscode": {
     "languageId": "ruby"
    }
   },
   "outputs": [
    {
     "data": {
      "text/plain": [
       "Text(0.5, 1.0, 'Distribution of Bull Ratios')"
      ]
     },
     "execution_count": 74,
     "metadata": {},
     "output_type": "execute_result"
    },
    {
     "data": {
      "image/png": "[encoded data removed]",
      "text/plain": [
       "<Figure size 640x480 with 1 Axes>"
      ]
     },
     "metadata": {},
     "output_type": "display_data"
    }
   ],
   "source": [
    "# Plot all bull ratios that are not NA\n",
    "plt.hist(date_stats['bull_ratio'].dropna())\n",
    "plt.xlabel('Bull Ratio')\n",
    "plt.ylabel('Count (per ticker & date)')\n",
    "plt.title('Distribution of Bull Ratios')"
   ]
  },
  {
   "cell_type": "markdown",
   "id": "bdf23629",
   "metadata": {},
   "source": [
    "## 3: Merge with daily returns"
   ]
  },
  {
   "cell_type": "markdown",
   "id": "a19be9b1",
   "metadata": {},
   "source": [
    "### 3a: Pull close-to-close log-return from Kaggle dataset"
   ]
  }
 ],
 "metadata": {
  "kernelspec": {
   "display_name": "Python 3",
   "language": "python",
   "name": "python3"
  },
  "language_info": {
   "codemirror_mode": {
    "name": "ipython",
    "version": 3
   },
   "file_extension": ".py",
   "mimetype": "text/x-python",
   "name": "python",
   "nbconvert_exporter": "python",
   "pygments_lexer": "ipython3",
   "version": "3.11.2"
  }
 },
 "nbformat": 4,
 "nbformat_minor": 5
}
