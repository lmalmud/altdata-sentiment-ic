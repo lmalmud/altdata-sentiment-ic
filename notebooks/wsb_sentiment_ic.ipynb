{
 "cells": [
  {
   "cell_type": "markdown",
   "id": "90a6d2b3",
   "metadata": {},
   "source": [
    "# WallStreetBests: Reddit Sentiment $\\implies$ Stock Alpha"
   ]
  },
  {
   "cell_type": "code",
   "execution_count": null,
   "id": "da61e7b7",
   "metadata": {},
   "outputs": [],
   "source": [
    "import pandas as pd\n",
    "\n",
    "# Adjust path in order to access preprocessing code\n",
    "import sys\n",
    "import os\n",
    "parent_dir = os.path.abspath(os.path.join(os.getcwd(), '..'))\n",
    "sys.path.append(parent_dir)\n",
    "import src.preprocess as preprocess"
   ]
  },
  {
   "cell_type": "markdown",
   "id": "dc8e9c4c",
   "metadata": {},
   "source": [
    "## 1: Quick data audit"
   ]
  },
  {
   "cell_type": "code",
   "execution_count": 19,
   "id": "14dd441e",
   "metadata": {},
   "outputs": [],
   "source": [
    "# Read in Reddit data as pd.DataFrame\n",
    "reddit = preprocess.load_reddit()"
   ]
  },
  {
   "cell_type": "markdown",
   "id": "b81a4c3e",
   "metadata": {},
   "source": [
    "### 1a: Null counts per column"
   ]
  },
  {
   "cell_type": "code",
   "execution_count": 12,
   "id": "66915c89",
   "metadata": {},
   "outputs": [
    {
     "name": "stdout",
     "output_type": "stream",
     "text": [
      "title: 53187\n",
      "score: 53187\n",
      "id: 53187\n",
      "url: 53187\n",
      "comms_num: 53187\n",
      "created: 53187\n",
      "body: 24738\n",
      "timestamp: 53187\n"
     ]
    }
   ],
   "source": [
    "# For each column\n",
    "for col in reddit.columns:\n",
    "    # Count returns the number of non null values in an object\n",
    "    print(f'{col}: {reddit[col].count()}')"
   ]
  },
  {
   "cell_type": "markdown",
   "id": "ce626567",
   "metadata": {},
   "source": [
    "### 1b: Top-10 tickers by post count and by up-vote score."
   ]
  },
  {
   "cell_type": "code",
   "execution_count": null,
   "id": "6a685c1e",
   "metadata": {},
   "outputs": [],
   "source": []
  }
 ],
 "metadata": {
  "kernelspec": {
   "display_name": "Python 3",
   "language": "python",
   "name": "python3"
  },
  "language_info": {
   "codemirror_mode": {
    "name": "ipython",
    "version": 3
   },
   "file_extension": ".py",
   "mimetype": "text/x-python",
   "name": "python",
   "nbconvert_exporter": "python",
   "pygments_lexer": "ipython3",
   "version": "3.11.2"
  }
 },
 "nbformat": 4,
 "nbformat_minor": 5
}
